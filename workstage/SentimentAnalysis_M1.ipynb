{
 "cells": [
  {
   "cell_type": "markdown",
   "metadata": {},
   "source": [
    "# Sentiment Analysis\n"
   ]
  },
  {
   "cell_type": "markdown",
   "metadata": {},
   "source": [
    "### Metodología 1\n",
    "\n",
    "Empleo de métodos de análisis de sentimientos (SAMs) preentrenadas para la\n",
    "clasificación de la polaridad y análisis del funcionamiento de estos"
   ]
  },
  {
   "cell_type": "markdown",
   "metadata": {},
   "source": [
    "### VaderSentiment\n"
   ]
  },
  {
   "cell_type": "code",
   "execution_count": 1,
   "metadata": {},
   "outputs": [],
   "source": [
    "import pandas as pd\n",
    "\n",
    "from vaderSentiment.vaderSentiment import SentimentIntensityAnalyzer"
   ]
  },
  {
   "cell_type": "code",
   "execution_count": 2,
   "metadata": {},
   "outputs": [],
   "source": [
    "cols = ['sentiment','id','date','query_string','user','text']\n",
    "\n",
    "# No es necesario leer los datos de train ya que no necesitamos entrenar, \n",
    "# usaremos modelos ya preentrenados y validaremos con el conjunto de test\n",
    "\n",
    "test = pd.read_csv('data/testdata.manual.2009.06.14.csv', header=None, names=cols)"
   ]
  },
  {
   "cell_type": "code",
   "execution_count": 3,
   "metadata": {},
   "outputs": [],
   "source": [
    "# Nos quedamos con el sentimiento y la cadena\n",
    "test.drop(['id','date','query_string','user'],axis=1,inplace=True)"
   ]
  },
  {
   "cell_type": "code",
   "execution_count": 4,
   "metadata": {},
   "outputs": [
    {
     "data": {
      "text/html": [
       "<div>\n",
       "<style scoped>\n",
       "    .dataframe tbody tr th:only-of-type {\n",
       "        vertical-align: middle;\n",
       "    }\n",
       "\n",
       "    .dataframe tbody tr th {\n",
       "        vertical-align: top;\n",
       "    }\n",
       "\n",
       "    .dataframe thead th {\n",
       "        text-align: right;\n",
       "    }\n",
       "</style>\n",
       "<table border=\"1\" class=\"dataframe\">\n",
       "  <thead>\n",
       "    <tr style=\"text-align: right;\">\n",
       "      <th></th>\n",
       "      <th>sentiment</th>\n",
       "      <th>text</th>\n",
       "    </tr>\n",
       "  </thead>\n",
       "  <tbody>\n",
       "    <tr>\n",
       "      <th>0</th>\n",
       "      <td>4</td>\n",
       "      <td>@stellargirl I loooooooovvvvvveee my Kindle2. ...</td>\n",
       "    </tr>\n",
       "    <tr>\n",
       "      <th>1</th>\n",
       "      <td>4</td>\n",
       "      <td>Reading my kindle2...  Love it... Lee childs i...</td>\n",
       "    </tr>\n",
       "    <tr>\n",
       "      <th>2</th>\n",
       "      <td>4</td>\n",
       "      <td>Ok, first assesment of the #kindle2 ...it fuck...</td>\n",
       "    </tr>\n",
       "    <tr>\n",
       "      <th>3</th>\n",
       "      <td>4</td>\n",
       "      <td>@kenburbary You'll love your Kindle2. I've had...</td>\n",
       "    </tr>\n",
       "    <tr>\n",
       "      <th>4</th>\n",
       "      <td>4</td>\n",
       "      <td>@mikefish  Fair enough. But i have the Kindle2...</td>\n",
       "    </tr>\n",
       "    <tr>\n",
       "      <th>5</th>\n",
       "      <td>4</td>\n",
       "      <td>@richardebaker no. it is too big. I'm quite ha...</td>\n",
       "    </tr>\n",
       "    <tr>\n",
       "      <th>6</th>\n",
       "      <td>0</td>\n",
       "      <td>Fuck this economy. I hate aig and their non lo...</td>\n",
       "    </tr>\n",
       "    <tr>\n",
       "      <th>7</th>\n",
       "      <td>4</td>\n",
       "      <td>Jquery is my new best friend.</td>\n",
       "    </tr>\n",
       "    <tr>\n",
       "      <th>8</th>\n",
       "      <td>4</td>\n",
       "      <td>Loves twitter</td>\n",
       "    </tr>\n",
       "    <tr>\n",
       "      <th>9</th>\n",
       "      <td>4</td>\n",
       "      <td>how can you not love Obama? he makes jokes abo...</td>\n",
       "    </tr>\n",
       "  </tbody>\n",
       "</table>\n",
       "</div>"
      ],
      "text/plain": [
       "   sentiment                                               text\n",
       "0          4  @stellargirl I loooooooovvvvvveee my Kindle2. ...\n",
       "1          4  Reading my kindle2...  Love it... Lee childs i...\n",
       "2          4  Ok, first assesment of the #kindle2 ...it fuck...\n",
       "3          4  @kenburbary You'll love your Kindle2. I've had...\n",
       "4          4  @mikefish  Fair enough. But i have the Kindle2...\n",
       "5          4  @richardebaker no. it is too big. I'm quite ha...\n",
       "6          0  Fuck this economy. I hate aig and their non lo...\n",
       "7          4                      Jquery is my new best friend.\n",
       "8          4                                      Loves twitter\n",
       "9          4  how can you not love Obama? he makes jokes abo..."
      ]
     },
     "execution_count": 4,
     "metadata": {},
     "output_type": "execute_result"
    }
   ],
   "source": [
    "test.head(10)"
   ]
  },
  {
   "cell_type": "code",
   "execution_count": 5,
   "metadata": {},
   "outputs": [
    {
     "data": {
      "text/plain": [
       "4    182\n",
       "0    177\n",
       "2    139\n",
       "Name: sentiment, dtype: int64"
      ]
     },
     "execution_count": 5,
     "metadata": {},
     "output_type": "execute_result"
    }
   ],
   "source": [
    "test.sentiment.value_counts()"
   ]
  },
  {
   "cell_type": "code",
   "execution_count": 6,
   "metadata": {},
   "outputs": [],
   "source": [
    "analyzer = SentimentIntensityAnalyzer()"
   ]
  },
  {
   "cell_type": "code",
   "execution_count": 7,
   "metadata": {},
   "outputs": [
    {
     "name": "stdout",
     "output_type": "stream",
     "text": [
      "[4, 4, 2, 4, 4, 4, 0, 4, 4, 0, 2, 0, 2, 2, 0, 4, 0, 4, 4, 2, 4, 4, 2, 4, 0, 4, 2, 4, 4, 0, 4, 4, 4, 0, 0, 4, 0, 4, 4, 2, 4, 2, 0, 0, 0, 2, 2, 2, 4, 0, 2, 4, 2, 2, 0, 2, 4, 4, 0, 0, 4, 4, 4, 4, 0, 2, 4, 4, 4, 2, 2, 0, 0, 4, 4, 4, 2, 4, 0, 0, 4, 0, 4, 2, 4, 2, 0, 2, 2, 0, 0, 0, 4, 0, 0, 4, 0, 0, 0, 4, 2, 0, 0, 0, 0, 0, 4, 2, 4, 4, 4, 4, 4, 2, 4, 4, 4, 2, 4, 4, 4, 4, 2, 0, 4, 4, 2, 4, 2, 2, 4, 4, 4, 4, 0, 2, 4, 2, 0, 4, 4, 0, 4, 0, 0, 0, 0, 0, 0, 4, 4, 0, 0, 2, 2, 2, 4, 2, 2, 2, 2, 0, 0, 4, 0, 4, 2, 4, 0, 2, 4, 4, 4, 4, 2, 2, 0, 2, 2, 2, 2, 2, 2, 2, 0, 0, 2, 2, 2, 2, 2, 4, 0, 2, 2, 4, 4, 2, 4, 2, 0, 2, 4, 4, 2, 4, 4, 4, 4, 4, 4, 0, 4, 2, 0, 4, 2, 0, 4, 0, 4, 0, 4, 0, 2, 0, 0, 0, 0, 2, 0, 4, 2, 2, 0, 0, 4, 2, 4, 4, 0, 2, 2, 4, 4, 4, 4, 4, 4, 4, 0, 4, 4, 4, 0, 0, 0, 4, 4, 4, 4, 4, 4, 4, 4, 4, 4, 2, 4, 2, 4, 0, 4, 4, 4, 4, 4, 4, 4, 0, 0, 2, 0, 2, 2, 4, 2, 4, 2, 4, 4, 4, 0, 0, 4, 0, 0, 0, 4, 0, 2, 2, 0, 2, 0, 2, 4, 0, 2, 4, 2, 2, 4, 4, 0, 4, 4, 4, 4, 4, 4, 2, 4, 4, 2, 2, 2, 0, 2, 4, 2, 2, 2, 0, 0, 4, 0, 4, 4, 4, 2, 4, 4, 0, 4, 2, 4, 0, 2, 4, 4, 2, 4, 4, 4, 4, 4, 4, 4, 4, 2, 0, 4, 4, 4, 2, 4, 4, 4, 4, 4, 2, 4, 0, 0, 2, 0, 2, 0, 0, 4, 0, 2, 0, 0, 0, 2, 2, 2, 0, 0, 0, 0, 0, 0, 0, 2, 0, 0, 2, 0, 2, 0, 0, 4, 4, 0, 2, 0, 0, 0, 2, 2, 2, 4, 2, 4, 0, 2, 2, 2, 2, 0, 2, 2, 4, 4, 4, 2, 2, 4, 2, 2, 2, 2, 4, 2, 2, 0, 4, 0, 2, 2, 4, 2, 2, 2, 2, 0, 4, 4, 4, 4, 0, 4, 0, 4, 4, 4, 2, 4, 4, 4, 4, 4, 4, 4, 4, 4, 4, 4, 4, 2, 2, 4, 2, 4, 4, 4, 4, 0, 0, 0, 2, 4, 4, 2, 4, 2, 4, 4, 4, 2, 2, 0, 2, 0, 0]\n"
     ]
    }
   ],
   "source": [
    "pred = []\n",
    "\n",
    "for sentence in test['text']:\n",
    "    \n",
    "    # Clasificamos como positivo, neutro o negativo dependiendo del valor\n",
    "    # o score que indica 'compound'. Mirar el github para saber la interpretación\n",
    "    vs = analyzer.polarity_scores(sentence)\n",
    "    \n",
    "    if vs['compound'] >= 0.05:\n",
    "        pred.append(4)\n",
    "    elif vs['compound'] <= -0.05:\n",
    "        pred.append(0)\n",
    "    else:\n",
    "        pred.append(2)\n",
    "\n",
    "print(pred)"
   ]
  },
  {
   "cell_type": "code",
   "execution_count": 8,
   "metadata": {},
   "outputs": [
    {
     "name": "stdout",
     "output_type": "stream",
     "text": [
      "Acierto del: 72.08835341365462 %\n"
     ]
    }
   ],
   "source": [
    "count = 0\n",
    "\n",
    "# Contamos cuantos ha acertado correctamente\n",
    "for p, r in zip(pred, test['sentiment']):\n",
    "    if p == r:\n",
    "        count += 1\n",
    "        \n",
    "print(\"Acierto del: {} %\".format(count/len(pred)*100))"
   ]
  },
  {
   "cell_type": "code",
   "execution_count": null,
   "metadata": {},
   "outputs": [],
   "source": []
  },
  {
   "cell_type": "markdown",
   "metadata": {},
   "source": [
    "### TextBlob\n",
    "\n",
    "#### Utilizando ya preentrenado"
   ]
  },
  {
   "cell_type": "code",
   "execution_count": 9,
   "metadata": {},
   "outputs": [],
   "source": [
    "from textblob import TextBlob"
   ]
  },
  {
   "cell_type": "code",
   "execution_count": 10,
   "metadata": {},
   "outputs": [],
   "source": [
    "pred = []\n",
    "\n",
    "for sentence in test['text']:\n",
    "    \n",
    "    testimonial = TextBlob(sentence)\n",
    "    polarity = testimonial.sentiment.polarity\n",
    "    \n",
    "    if polarity >= 0.05:\n",
    "        pred.append(4)\n",
    "    elif polarity <= -0.05:\n",
    "        pred.append(0)\n",
    "    else:\n",
    "        pred.append(2)"
   ]
  },
  {
   "cell_type": "code",
   "execution_count": 11,
   "metadata": {},
   "outputs": [
    {
     "name": "stdout",
     "output_type": "stream",
     "text": [
      "Acierto del: 65.46184738955823 %\n"
     ]
    }
   ],
   "source": [
    "count = 0\n",
    "\n",
    "# Contamos cuantos ha acertado correctamente\n",
    "for p, r in zip(pred, test['sentiment']):\n",
    "    if p == r:\n",
    "        count += 1\n",
    "        \n",
    "print(\"Acierto del: {} %\".format(count/len(pred)*100))"
   ]
  },
  {
   "cell_type": "markdown",
   "metadata": {},
   "source": [
    "#### Entrenando utilizando textblob"
   ]
  },
  {
   "cell_type": "code",
   "execution_count": 12,
   "metadata": {},
   "outputs": [
    {
     "ename": "IndentationError",
     "evalue": "unexpected indent (<ipython-input-12-9b12e05db695>, line 2)",
     "output_type": "error",
     "traceback": [
      "\u001b[0;36m  File \u001b[0;32m\"<ipython-input-12-9b12e05db695>\"\u001b[0;36m, line \u001b[0;32m2\u001b[0m\n\u001b[0;31m    header=None, names=cols, encoding = \"ISO-8859-1\")\u001b[0m\n\u001b[0m    ^\u001b[0m\n\u001b[0;31mIndentationError\u001b[0m\u001b[0;31m:\u001b[0m unexpected indent\n"
     ]
    }
   ],
   "source": [
    "train = pd.read_csv('data/training.1600000.processed.noemoticon.csv', \n",
    "                    header=None, names=cols, encoding = \"ISO-8859-1\")"
   ]
  },
  {
   "cell_type": "code",
   "execution_count": null,
   "metadata": {},
   "outputs": [],
   "source": [
    "# Creamos el conjunto de entrenamiento para el clasificador\n",
    "\n",
    "training = []\n",
    "for index, row in train.iterrows(): \n",
    "    \n",
    "    if row['sentiment'] == 4:\n",
    "        training.append((row['text'], 'pos'))\n",
    "    elif row['sentiment'] == 0:\n",
    "        training.append((row['text'], 'neg'))\n",
    "    else:\n",
    "        pass\n",
    "\n",
    "print(len(training))"
   ]
  },
  {
   "cell_type": "code",
   "execution_count": null,
   "metadata": {},
   "outputs": [],
   "source": [
    "# Creamos el conjunto de test para el clasificador\n",
    "testing = []\n",
    "for index, row in test.iterrows():\n",
    "    \n",
    "    if row['sentiment'] == 4:\n",
    "        testing.append((row['text'], 'pos'))\n",
    "    elif row['sentiment'] == 0:\n",
    "        testing.append((row['text'], 'neg'))\n",
    "    else:\n",
    "        pass\n",
    "\n",
    "print(len(testing))"
   ]
  },
  {
   "cell_type": "code",
   "execution_count": null,
   "metadata": {},
   "outputs": [],
   "source": [
    "from textblob.classifiers import NaiveBayesClassifier\n",
    "cl = NaiveBayesClassifier(training[:10000])\n",
    "\n",
    "print(\"Acierto del: {} %\".format(cl.accuracy(testing)))"
   ]
  },
  {
   "cell_type": "code",
   "execution_count": null,
   "metadata": {},
   "outputs": [],
   "source": []
  },
  {
   "cell_type": "code",
   "execution_count": null,
   "metadata": {},
   "outputs": [],
   "source": []
  },
  {
   "cell_type": "code",
   "execution_count": null,
   "metadata": {},
   "outputs": [],
   "source": []
  }
 ],
 "metadata": {
  "kernelspec": {
   "display_name": "Python 3",
   "language": "python",
   "name": "python3"
  },
  "language_info": {
   "codemirror_mode": {
    "name": "ipython",
    "version": 3
   },
   "file_extension": ".py",
   "mimetype": "text/x-python",
   "name": "python",
   "nbconvert_exporter": "python",
   "pygments_lexer": "ipython3",
   "version": "3.8.3"
  }
 },
 "nbformat": 4,
 "nbformat_minor": 4
}
