{
 "cells": [
  {
   "cell_type": "markdown",
   "metadata": {},
   "source": [
    "### Modelos avanzados - Glove + LSTM"
   ]
  },
  {
   "cell_type": "code",
   "execution_count": 1,
   "metadata": {
    "executionInfo": {
     "elapsed": 3418,
     "status": "ok",
     "timestamp": 1609441130261,
     "user": {
      "displayName": "Oksana Kalytenko",
      "photoUrl": "",
      "userId": "11398480196943265179"
     },
     "user_tz": -120
    },
    "id": "C_E44uWWbrXy"
   },
   "outputs": [],
   "source": [
    "import random\n",
    "random.seed(1)\n",
    "\n",
    "\n",
    "import matplotlib.pyplot as plt\n",
    "import matplotlib.image as mpimg \n",
    "import seaborn as sns\n",
    "import pandas as pd\n",
    "import numpy as np\n",
    "\n",
    "import re\n",
    "from bs4 import BeautifulSoup\n",
    "\n",
    "import nltk\n",
    "from nltk.tokenize import TweetTokenizer\n",
    "from nltk.tag import pos_tag\n",
    "\n",
    "from nltk.stem import WordNetLemmatizer\n",
    "from nltk.corpus import stopwords\n",
    "from nltk.stem import SnowballStemmer\n",
    "\n",
    "\n",
    "stop_words = stopwords.words('english')\n",
    "stemmer = SnowballStemmer('english')\n",
    "\n",
    "# Scikit-learn\n",
    "from sklearn.model_selection import train_test_split\n",
    "from sklearn.preprocessing import LabelEncoder\n",
    "from sklearn.metrics import confusion_matrix, classification_report, accuracy_score\n",
    "\n",
    "import tensorflow as tf\n",
    "\n",
    "# Keras\n",
    "from keras.preprocessing.text import Tokenizer\n",
    "from keras.preprocessing.sequence import pad_sequences\n",
    "from keras.models import Sequential\n",
    "from keras.layers import Activation, Dense, Dropout, Embedding, LSTM, GRU, Bidirectional, Conv1D, GlobalMaxPool1D\n",
    "from keras import utils\n",
    "from keras.callbacks import ReduceLROnPlateau, EarlyStopping\n"
   ]
  },
  {
   "cell_type": "code",
   "execution_count": 2,
   "metadata": {
    "executionInfo": {
     "elapsed": 3028,
     "status": "ok",
     "timestamp": 1609441130262,
     "user": {
      "displayName": "Oksana Kalytenko",
      "photoUrl": "",
      "userId": "11398480196943265179"
     },
     "user_tz": -120
    },
    "id": "AGflCjH2cOYV"
   },
   "outputs": [],
   "source": [
    "def clean_text(text):\n",
    "    html_text = BeautifulSoup(text,\"html.parser\").get_text()\n",
    "    text = re.sub(\"[^a-zA-Z]\", \" \", html_text).strip()\n",
    "    text = re.sub(r'http\\S+', '', text)\n",
    "    text = re.sub('http', ' ', text)\n",
    "    text = re.sub('com', ' ', text)\n",
    "    text = re.sub('  +', ' ', text)\n",
    "    text = re.sub('\\n', ' ', text)\n",
    "    text = text.lower()\n",
    "    \n",
    "    return text\n",
    "\n",
    "\n",
    "def stemSentence(text):\n",
    "    stop_words = stopwords.words('english')\n",
    "    stemmer = SnowballStemmer('english')\n",
    "\n",
    "    stem_sentence = []\n",
    "    for word in text.split():\n",
    "        if word not in stop_words:\n",
    "            if len(word)>2:\n",
    "                stem_sentence.append(stemmer.stem(word))\n",
    "          \n",
    "    return \" \".join(stem_sentence)\n",
    "\n",
    "\n",
    "def lemmatize_sentence(text):\n",
    "    stop_words = stopwords.words('english')\n",
    "    lemmatizer = WordNetLemmatizer()\n",
    "\n",
    "    lemmatized_sentence = []\n",
    "    for word, tag in pos_tag(text.split()):\n",
    "        # In general, if a tag starts with NN, the word is a noun and if it stars with VB, the word is a verb.\n",
    "        if tag.startswith('NN'):\n",
    "            pos = 'n'\n",
    "        elif tag.startswith('VB'):\n",
    "            pos = 'v'\n",
    "        else:\n",
    "            pos = 'a'\n",
    "\n",
    "        if word not in stop_words:\n",
    "            lemmatized_sentence.append(lemmatizer.lemmatize(word, pos))\n",
    "\n",
    "    return \" \".join(lemmatized_sentence)"
   ]
  },
  {
   "cell_type": "code",
   "execution_count": 3,
   "metadata": {
    "executionInfo": {
     "elapsed": 5129,
     "status": "ok",
     "timestamp": 1609441133310,
     "user": {
      "displayName": "Oksana Kalytenko",
      "photoUrl": "",
      "userId": "11398480196943265179"
     },
     "user_tz": -120
    },
    "id": "bwYX33rKbrX-",
    "outputId": "2fd2ac59-910a-4220-f1c2-7c4e94890393"
   },
   "outputs": [
    {
     "data": {
      "text/html": [
       "<div>\n",
       "<style scoped>\n",
       "    .dataframe tbody tr th:only-of-type {\n",
       "        vertical-align: middle;\n",
       "    }\n",
       "\n",
       "    .dataframe tbody tr th {\n",
       "        vertical-align: top;\n",
       "    }\n",
       "\n",
       "    .dataframe thead th {\n",
       "        text-align: right;\n",
       "    }\n",
       "</style>\n",
       "<table border=\"1\" class=\"dataframe\">\n",
       "  <thead>\n",
       "    <tr style=\"text-align: right;\">\n",
       "      <th></th>\n",
       "      <th>Sentiment</th>\n",
       "      <th>Tweet</th>\n",
       "    </tr>\n",
       "  </thead>\n",
       "  <tbody>\n",
       "    <tr>\n",
       "      <th>0</th>\n",
       "      <td>0</td>\n",
       "      <td>@switchfoot http://twitpic.com/2y1zl - Awww, t...</td>\n",
       "    </tr>\n",
       "    <tr>\n",
       "      <th>1</th>\n",
       "      <td>0</td>\n",
       "      <td>is upset that he can't update his Facebook by ...</td>\n",
       "    </tr>\n",
       "    <tr>\n",
       "      <th>2</th>\n",
       "      <td>0</td>\n",
       "      <td>@Kenichan I dived many times for the ball. Man...</td>\n",
       "    </tr>\n",
       "    <tr>\n",
       "      <th>3</th>\n",
       "      <td>0</td>\n",
       "      <td>my whole body feels itchy and like its on fire</td>\n",
       "    </tr>\n",
       "    <tr>\n",
       "      <th>4</th>\n",
       "      <td>0</td>\n",
       "      <td>@nationwideclass no, it's not behaving at all....</td>\n",
       "    </tr>\n",
       "  </tbody>\n",
       "</table>\n",
       "</div>"
      ],
      "text/plain": [
       "   Sentiment                                              Tweet\n",
       "0          0  @switchfoot http://twitpic.com/2y1zl - Awww, t...\n",
       "1          0  is upset that he can't update his Facebook by ...\n",
       "2          0  @Kenichan I dived many times for the ball. Man...\n",
       "3          0    my whole body feels itchy and like its on fire \n",
       "4          0  @nationwideclass no, it's not behaving at all...."
      ]
     },
     "execution_count": 3,
     "metadata": {},
     "output_type": "execute_result"
    }
   ],
   "source": [
    "dt = pd.read_csv('data/training.1600000.processed.noemoticon.csv', encoding = 'latin-1', header = None)\n",
    "dtt = pd.read_csv('data/testdata.manual.2009.06.14.csv', encoding = 'latin-1', header = None)\n",
    "dt.columns=['Sentiment', 'id', 'Date', 'Query', 'User', 'Tweet']\n",
    "dtt.columns=['Sentiment', 'id', 'Date', 'Query', 'User', 'Tweet']\n",
    "dt = dt.drop(columns=['id', 'Date', 'Query', 'User'], axis=1)\n",
    "dtt = dtt.drop(columns=['id', 'Date', 'Query', 'User'], axis=1)\n",
    "\n",
    "dtt = pd.concat([dtt[dtt['Sentiment'] == 0], dtt[dtt['Sentiment'] == 4]])\n",
    "dt.head(5)"
   ]
  },
  {
   "cell_type": "code",
   "execution_count": 4,
   "metadata": {},
   "outputs": [
    {
     "name": "stdout",
     "output_type": "stream",
     "text": [
      "1600000 359\n"
     ]
    }
   ],
   "source": [
    "f={0 : 'Negative', 4 : 'Positive'}\n",
    "\n",
    "def sentiment_decoder(sentiment):\n",
    "    return f[sentiment]\n",
    "\n",
    "dt.Sentiment = dt.Sentiment.apply(lambda x: sentiment_decoder(x))\n",
    "dtt.Sentiment = dtt.Sentiment.apply(lambda x: sentiment_decoder(x))\n",
    "\n",
    "print(len(dt), len(dtt))"
   ]
  },
  {
   "cell_type": "code",
   "execution_count": 5,
   "metadata": {
    "executionInfo": {
     "elapsed": 3203,
     "status": "ok",
     "timestamp": 1609441133311,
     "user": {
      "displayName": "Oksana Kalytenko",
      "photoUrl": "",
      "userId": "11398480196943265179"
     },
     "user_tz": -120
    },
    "id": "Q4IFzIYObrYC",
    "outputId": "85c9317d-c15b-4162-db1f-c3a75762ee16"
   },
   "outputs": [
    {
     "data": {
      "text/plain": [
       "60000"
      ]
     },
     "execution_count": 5,
     "metadata": {},
     "output_type": "execute_result"
    }
   ],
   "source": [
    "# May make dataset smaller\n",
    "dt_pos = dt[dt.Sentiment == 'Positive']\n",
    "dt_neg = dt[dt.Sentiment == 'Negative']\n",
    "dt_pos = dt_pos.iloc[:int(len(dt_pos)/1)]\n",
    "dt_neg = dt_neg.iloc[:int(len(dt_neg)/1)]\n",
    "dt = pd.concat([dt_pos[:30000], dt_neg[:30000]])\n",
    "len(dt)"
   ]
  },
  {
   "cell_type": "code",
   "execution_count": 6,
   "metadata": {
    "executionInfo": {
     "elapsed": 357704,
     "status": "ok",
     "timestamp": 1609441509097,
     "user": {
      "displayName": "Oksana Kalytenko",
      "photoUrl": "",
      "userId": "11398480196943265179"
     },
     "user_tz": -120
    },
    "id": "Ecmb3JfEbrYF",
    "outputId": "d8468f4d-4c8b-40c8-ca17-022aa46ba4aa"
   },
   "outputs": [
    {
     "data": {
      "text/html": [
       "<div>\n",
       "<style scoped>\n",
       "    .dataframe tbody tr th:only-of-type {\n",
       "        vertical-align: middle;\n",
       "    }\n",
       "\n",
       "    .dataframe tbody tr th {\n",
       "        vertical-align: top;\n",
       "    }\n",
       "\n",
       "    .dataframe thead th {\n",
       "        text-align: right;\n",
       "    }\n",
       "</style>\n",
       "<table border=\"1\" class=\"dataframe\">\n",
       "  <thead>\n",
       "    <tr style=\"text-align: right;\">\n",
       "      <th></th>\n",
       "      <th>Sentiment</th>\n",
       "      <th>Tweet</th>\n",
       "    </tr>\n",
       "  </thead>\n",
       "  <tbody>\n",
       "    <tr>\n",
       "      <th>800000</th>\n",
       "      <td>Positive</td>\n",
       "      <td>i love health uandpets u guys r the best</td>\n",
       "    </tr>\n",
       "    <tr>\n",
       "      <th>800001</th>\n",
       "      <td>Positive</td>\n",
       "      <td>im meeting up with one of my besties tonight c...</td>\n",
       "    </tr>\n",
       "    <tr>\n",
       "      <th>800002</th>\n",
       "      <td>Positive</td>\n",
       "      <td>darealsunisakim thanks for the twitter add sun...</td>\n",
       "    </tr>\n",
       "    <tr>\n",
       "      <th>800003</th>\n",
       "      <td>Positive</td>\n",
       "      <td>being sick can be really cheap when it hurts t...</td>\n",
       "    </tr>\n",
       "    <tr>\n",
       "      <th>800004</th>\n",
       "      <td>Positive</td>\n",
       "      <td>lovesbrooklyn he has that effect on everyone</td>\n",
       "    </tr>\n",
       "  </tbody>\n",
       "</table>\n",
       "</div>"
      ],
      "text/plain": [
       "       Sentiment                                              Tweet\n",
       "800000  Positive           i love health uandpets u guys r the best\n",
       "800001  Positive  im meeting up with one of my besties tonight c...\n",
       "800002  Positive  darealsunisakim thanks for the twitter add sun...\n",
       "800003  Positive  being sick can be really cheap when it hurts t...\n",
       "800004  Positive       lovesbrooklyn he has that effect on everyone"
      ]
     },
     "execution_count": 6,
     "metadata": {},
     "output_type": "execute_result"
    }
   ],
   "source": [
    "dt.Tweet = dt.Tweet.apply(lambda x: clean_text(x))\n",
    "dtt.Tweet = dtt.Tweet.apply(lambda x: clean_text(x))\n",
    "dt.head()"
   ]
  },
  {
   "cell_type": "code",
   "execution_count": 7,
   "metadata": {
    "executionInfo": {
     "elapsed": 355590,
     "status": "ok",
     "timestamp": 1609441509099,
     "user": {
      "displayName": "Oksana Kalytenko",
      "photoUrl": "",
      "userId": "11398480196943265179"
     },
     "user_tz": -120
    },
    "id": "HUhLPNXqeZkp",
    "outputId": "f990e384-f454-4629-90d1-1e649857018f"
   },
   "outputs": [],
   "source": [
    "#May use Stemma or Lemma\n",
    "dt.Tweet = dt.Tweet.apply(lambda x: stemSentence(x))\n",
    "dtt.Tweet = dtt.Tweet.apply(lambda x: stemSentence(x))"
   ]
  },
  {
   "cell_type": "markdown",
   "metadata": {
    "id": "VelI71k3brYG"
   },
   "source": [
    "### Train and Test Split"
   ]
  },
  {
   "cell_type": "code",
   "execution_count": 8,
   "metadata": {
    "executionInfo": {
     "elapsed": 1399,
     "status": "ok",
     "timestamp": 1609441510504,
     "user": {
      "displayName": "Oksana Kalytenko",
      "photoUrl": "",
      "userId": "11398480196943265179"
     },
     "user_tz": -120
    },
    "id": "FFezZWaTbrYH"
   },
   "outputs": [],
   "source": [
    "train_data = dt\n",
    "test_data = dtt"
   ]
  },
  {
   "cell_type": "code",
   "execution_count": 9,
   "metadata": {
    "executionInfo": {
     "elapsed": 1384,
     "status": "ok",
     "timestamp": 1609441510505,
     "user": {
      "displayName": "Oksana Kalytenko",
      "photoUrl": "",
      "userId": "11398480196943265179"
     },
     "user_tz": -120
    },
    "id": "kl2e6NkFbrYH",
    "outputId": "2e021015-225e-419f-89fe-9348d3e83624"
   },
   "outputs": [
    {
     "name": "stdout",
     "output_type": "stream",
     "text": [
      "Train Data size: 60000\n",
      "Test Data size 359\n"
     ]
    }
   ],
   "source": [
    "print(\"Train Data size:\", len(train_data))\n",
    "print(\"Test Data size\", len(test_data))"
   ]
  },
  {
   "cell_type": "markdown",
   "metadata": {
    "id": "ZM8k70w6brYI"
   },
   "source": [
    "### Tokenization"
   ]
  },
  {
   "cell_type": "code",
   "execution_count": 10,
   "metadata": {
    "executionInfo": {
     "elapsed": 1382,
     "status": "ok",
     "timestamp": 1609441510507,
     "user": {
      "displayName": "Oksana Kalytenko",
      "photoUrl": "",
      "userId": "11398480196943265179"
     },
     "user_tz": -120
    },
    "id": "rOzvGQVcbrYJ"
   },
   "outputs": [],
   "source": [
    "max_words = 100000\n",
    "max_length = 100 #150"
   ]
  },
  {
   "cell_type": "code",
   "execution_count": 11,
   "metadata": {
    "executionInfo": {
     "elapsed": 40592,
     "status": "ok",
     "timestamp": 1609441549732,
     "user": {
      "displayName": "Oksana Kalytenko",
      "photoUrl": "",
      "userId": "11398480196943265179"
     },
     "user_tz": -120
    },
    "id": "cPQukcAJbrYJ",
    "outputId": "d35a1036-2ef0-4f13-d6db-39b08297032b"
   },
   "outputs": [
    {
     "name": "stdout",
     "output_type": "stream",
     "text": [
      "Found 49041 unique tokens.\n",
      "Training X Shape: (60000, 100)\n",
      "Testing X Shape: (359, 100)\n"
     ]
    }
   ],
   "source": [
    "tokenizer = Tokenizer(num_words=max_words)\n",
    "tokenizer.fit_on_texts(train_data.Tweet)\n",
    "\n",
    "word_index = tokenizer.word_index\n",
    "train_sequences = tokenizer.texts_to_sequences(train_data.Tweet)\n",
    "test_sequences = tokenizer.texts_to_sequences(test_data.Tweet)\n",
    "\n",
    "print('Found %s unique tokens.' % len(word_index))\n",
    "\n",
    "x_train = pad_sequences(train_sequences,\n",
    "                        maxlen = max_length)\n",
    "x_test = pad_sequences(test_sequences,\n",
    "                       maxlen = max_length)\n",
    "\n",
    "print(\"Training X Shape:\",x_train.shape)\n",
    "print(\"Testing X Shape:\",x_test.shape)\n"
   ]
  },
  {
   "cell_type": "code",
   "execution_count": 12,
   "metadata": {
    "executionInfo": {
     "elapsed": 40590,
     "status": "ok",
     "timestamp": 1609441549734,
     "user": {
      "displayName": "Oksana Kalytenko",
      "photoUrl": "",
      "userId": "11398480196943265179"
     },
     "user_tz": -120
    },
    "id": "v5D53bofbrYK"
   },
   "outputs": [],
   "source": [
    "labels = train_data.Sentiment.unique().tolist()"
   ]
  },
  {
   "cell_type": "code",
   "execution_count": 13,
   "metadata": {
    "executionInfo": {
     "elapsed": 41386,
     "status": "ok",
     "timestamp": 1609441550548,
     "user": {
      "displayName": "Oksana Kalytenko",
      "photoUrl": "",
      "userId": "11398480196943265179"
     },
     "user_tz": -120
    },
    "id": "X88k4OVibrYK",
    "outputId": "e7529801-d199-470b-d746-ba4030a64ce2"
   },
   "outputs": [
    {
     "name": "stdout",
     "output_type": "stream",
     "text": [
      "y_train shape: (60000, 1)\n",
      "y_test shape: (359, 1)\n"
     ]
    }
   ],
   "source": [
    "encoder = LabelEncoder()\n",
    "encoder.fit(train_data.Sentiment.to_list())\n",
    "\n",
    "y_train = encoder.transform(train_data.Sentiment.to_list())\n",
    "y_test = encoder.transform(test_data.Sentiment.to_list())\n",
    "\n",
    "y_train = y_train.reshape(-1,1)\n",
    "y_test = y_test.reshape(-1,1)\n",
    "\n",
    "print(\"y_train shape:\", y_train.shape)\n",
    "print(\"y_test shape:\", y_test.shape)"
   ]
  },
  {
   "cell_type": "markdown",
   "metadata": {
    "id": "eKKFlGmobrYL"
   },
   "source": [
    "### Word Embeddings\n",
    "### Global Vectors for Word Representation (GloVe)"
   ]
  },
  {
   "cell_type": "code",
   "execution_count": 14,
   "metadata": {},
   "outputs": [],
   "source": [
    "#!wget http://nlp.stanford.edu/data/glove.6B.zip\n",
    "#!unzip glove.6B.zip"
   ]
  },
  {
   "cell_type": "code",
   "execution_count": 15,
   "metadata": {},
   "outputs": [],
   "source": [
    "def read_glove_vecs(glove_file):\n",
    "    with open(glove_file, 'r', encoding=\"utf8\") as f:\n",
    "        words = set()\n",
    "        word_to_vec_map = {}\n",
    "        for line in f:\n",
    "            line = line.strip().split()\n",
    "            curr_word = line[0]\n",
    "            words.add(curr_word)\n",
    "            word_to_vec_map[curr_word] = np.array(line[1:], dtype=np.float64)\n",
    "        \n",
    "        i = 1\n",
    "        words_to_index = {}\n",
    "        index_to_words = {}\n",
    "        for w in sorted(words):\n",
    "            words_to_index[w] = i\n",
    "            index_to_words[i] = w\n",
    "            i = i + 1\n",
    "    return words_to_index, index_to_words, word_to_vec_map"
   ]
  },
  {
   "cell_type": "code",
   "execution_count": 16,
   "metadata": {},
   "outputs": [],
   "source": [
    "word_to_index, index_to_word, word_to_vec_map = read_glove_vecs('glove.6B.100d.txt')"
   ]
  },
  {
   "cell_type": "code",
   "execution_count": 17,
   "metadata": {},
   "outputs": [],
   "source": [
    "def cosine_similarity(u, v):\n",
    "    distance = 0.0\n",
    "    dot = np.dot(u, v)\n",
    "    norm_u = np.linalg.norm(u, ord=2)\n",
    "    norm_v = np.linalg.norm(v, ord=2)\n",
    "\n",
    "    cosine_similarity = dot / (norm_u * norm_v)\n",
    "\n",
    "    return cosine_similarity\n"
   ]
  },
  {
   "cell_type": "code",
   "execution_count": 18,
   "metadata": {},
   "outputs": [],
   "source": [
    "def complete_analogy(word_a, word_b, word_c, word_to_vec_map):\n",
    "    word_a, word_b, word_c = word_a.lower(), word_b.lower(), word_c.lower()\n",
    "\n",
    "    e_a, e_b, e_c = word_to_vec_map[word_a], word_to_vec_map[word_b], word_to_vec_map[word_c]\n",
    "\n",
    "    words = word_to_vec_map.keys()\n",
    "    max_cosine_sim = -100\n",
    "\n",
    "    best_word = None\n",
    "\n",
    "    for w in words:\n",
    "\n",
    "        if w in [word_a, word_b, word_c]:\n",
    "            continue\n",
    "\n",
    "        cosine_sim = cosine_similarity(e_b-e_a, word_to_vec_map[w]-e_c)\n",
    "\n",
    "        if cosine_sim > max_cosine_sim:\n",
    "            max_cosine_sim = cosine_sim\n",
    "            best_word = w\n",
    "\n",
    "    return best_word"
   ]
  },
  {
   "cell_type": "code",
   "execution_count": 19,
   "metadata": {},
   "outputs": [
    {
     "data": {
      "text/plain": [
       "0.7256871133170861"
      ]
     },
     "execution_count": 19,
     "metadata": {},
     "output_type": "execute_result"
    }
   ],
   "source": [
    "cosine_similarity(word_to_vec_map['pasta'], word_to_vec_map['soup'])\n"
   ]
  },
  {
   "cell_type": "code",
   "execution_count": 20,
   "metadata": {},
   "outputs": [
    {
     "data": {
      "text/plain": [
       "0.016315451717840903"
      ]
     },
     "execution_count": 20,
     "metadata": {},
     "output_type": "execute_result"
    }
   ],
   "source": [
    "cosine_similarity(word_to_vec_map['hello'], word_to_vec_map['olive'])\n"
   ]
  },
  {
   "cell_type": "code",
   "execution_count": 21,
   "metadata": {},
   "outputs": [
    {
     "data": {
      "text/plain": [
       "173081"
      ]
     },
     "execution_count": 21,
     "metadata": {},
     "output_type": "execute_result"
    }
   ],
   "source": [
    "word_to_index['happy']"
   ]
  },
  {
   "cell_type": "code",
   "execution_count": 22,
   "metadata": {},
   "outputs": [
    {
     "data": {
      "text/plain": [
       "array([ 0.25157  ,  0.4589   ,  0.30274  ,  0.12461  ,  0.15062  ,\n",
       "        0.7373   , -0.31431  , -0.31305  , -0.40889  ,  0.042455 ,\n",
       "       -0.42614  ,  0.49549  ,  0.010468 ,  0.22204  ,  0.028837 ,\n",
       "       -0.59052  ,  0.53351  ,  0.17798  , -0.24486  ,  0.92695  ,\n",
       "        0.27058  , -0.096303 , -0.0037595,  0.065192 ,  0.58494  ,\n",
       "        0.39373  , -0.43439  , -1.0214   , -0.12035  ,  0.30562  ,\n",
       "       -0.1696   ,  0.18668  , -0.44006  , -0.34578  , -0.46857  ,\n",
       "        0.18542  , -0.30383  ,  0.49897  , -0.37543  , -0.52041  ,\n",
       "       -0.5141   , -0.13442  ,  0.11745  , -0.13786  , -0.2505   ,\n",
       "        0.41267  ,  0.06101  , -0.10372  ,  0.34358  , -0.53381  ,\n",
       "       -0.013572 , -0.50581  ,  0.47017  ,  1.5464   ,  0.21803  ,\n",
       "       -2.2455   ,  0.35391  , -0.12865  ,  1.587    ,  0.79569  ,\n",
       "        0.15427  ,  1.262    , -0.26174  , -0.6863   ,  1.1039   ,\n",
       "        0.33912  ,  0.88084  , -0.24413  ,  0.21744  , -0.21199  ,\n",
       "        0.09736  , -0.17727  ,  0.062944 , -0.11046  ,  0.21855  ,\n",
       "        0.038796 ,  0.17231  , -0.58236  , -0.86605  , -0.022036 ,\n",
       "       -0.01176  ,  0.90198  ,  0.20412  ,  0.70519  , -1.5673   ,\n",
       "        0.11232  , -0.35443  , -0.73389  , -0.28524  , -0.74957  ,\n",
       "        0.49042  , -0.45365  ,  0.81719  ,  0.15014  , -0.31772  ,\n",
       "        0.031711 ,  0.069947 , -0.7478   ,  0.13684  ,  0.18927  ])"
      ]
     },
     "execution_count": 22,
     "metadata": {},
     "output_type": "execute_result"
    }
   ],
   "source": [
    "word_to_vec_map['life']"
   ]
  },
  {
   "cell_type": "code",
   "execution_count": 23,
   "metadata": {},
   "outputs": [
    {
     "name": "stdout",
     "output_type": "stream",
     "text": [
      "father -> mother :: son -> daughter\n"
     ]
    }
   ],
   "source": [
    "examples = [('father', 'mother', 'son'), ]\n",
    "for t in examples:\n",
    "    print ('{} -> {} :: {} -> {}'.format( *t, complete_analogy(*t,word_to_vec_map)))"
   ]
  },
  {
   "cell_type": "code",
   "execution_count": 24,
   "metadata": {},
   "outputs": [
    {
     "name": "stdout",
     "output_type": "stream",
     "text": [
      "italy -> italian :: spain -> spanish\n",
      "norway -> oslo :: japan -> tokyo\n",
      "small -> smaller :: large -> larger\n"
     ]
    }
   ],
   "source": [
    "examples = [('italy', 'italian', 'spain'), ('norway', 'oslo', 'japan'), ('small', 'smaller', 'large')]\n",
    "for t in examples:\n",
    "    print ('{} -> {} :: {} -> {}'.format( *t, complete_analogy(*t,word_to_vec_map)))"
   ]
  },
  {
   "cell_type": "code",
   "execution_count": 25,
   "metadata": {
    "executionInfo": {
     "elapsed": 76586,
     "status": "ok",
     "timestamp": 1609441585768,
     "user": {
      "displayName": "Oksana Kalytenko",
      "photoUrl": "",
      "userId": "11398480196943265179"
     },
     "user_tz": -120
    },
    "id": "u98gzTtYbrYM"
   },
   "outputs": [],
   "source": [
    "LR = 1e-2 \n",
    "BATCH_SIZE = 1024\n",
    "EPOCHS = 8"
   ]
  },
  {
   "cell_type": "code",
   "execution_count": 26,
   "metadata": {},
   "outputs": [],
   "source": [
    "def pretrained_embedding_layer(word_to_vec_map, word_to_index, max_length):\n",
    "    vocab_len = len(word_to_index) + 1\n",
    "    emb_dim = word_to_vec_map[\"unk\"].shape[0] \n",
    "    \n",
    "    emb_matrix = np.zeros((vocab_len, emb_dim))\n",
    "    \n",
    "    for word, idx in word_to_index.items():\n",
    "        emb_matrix[idx, :] = word_to_vec_map[word]\n",
    "        \n",
    "    embedding_layer = Embedding(vocab_len, emb_dim, trainable=False, input_shape=(max_length,))\n",
    "    embedding_layer.build((None,))\n",
    "    embedding_layer.set_weights([emb_matrix])\n",
    "    \n",
    "    return embedding_layer"
   ]
  },
  {
   "cell_type": "code",
   "execution_count": 27,
   "metadata": {
    "executionInfo": {
     "elapsed": 1301,
     "status": "ok",
     "timestamp": 1609443623360,
     "user": {
      "displayName": "Oksana Kalytenko",
      "photoUrl": "",
      "userId": "11398480196943265179"
     },
     "user_tz": -120
    },
    "id": "hvKBmVcqLSqX",
    "outputId": "353fe475-dda9-4d18-8c29-655f1d3ccca1"
   },
   "outputs": [],
   "source": [
    "from keras.callbacks import ReduceLROnPlateau, EarlyStopping\n",
    "\n",
    "learning_rate_reduction = [ReduceLROnPlateau(monitor='val_accuracy', patience = 2, verbose=1,factor=0.5, min_lr=0.00001)]\n",
    "\n",
    "model = Sequential()\n",
    "model.add(pretrained_embedding_layer(word_to_vec_map, word_to_index, max_length))\n",
    "#LSTM \n",
    "model.add(Bidirectional(LSTM(units=128 , return_sequences = True, dropout = 0.1)))\n",
    "model.add(Bidirectional(LSTM(units=100 , return_sequences = True, dropout = 0.1)))\n",
    "model.add(Conv1D(100, 5, activation='relu'))\n",
    "model.add(GlobalMaxPool1D())\n",
    "model.add(Dense(units = 32 , activation = 'relu'))\n",
    "model.add(Dense(1, activation='sigmoid'))\n",
    "\n",
    "opt = tf.keras.optimizers.Adam(lr=LR, beta_1=0.9, beta_2=0.999, epsilon=1e-08)\n",
    "\n",
    "model.compile(optimizer=opt, loss='binary_crossentropy', metrics=['accuracy'])"
   ]
  },
  {
   "cell_type": "code",
   "execution_count": 28,
   "metadata": {},
   "outputs": [
    {
     "name": "stdout",
     "output_type": "stream",
     "text": [
      "Model: \"sequential\"\n",
      "_________________________________________________________________\n",
      "Layer (type)                 Output Shape              Param #   \n",
      "=================================================================\n",
      "embedding (Embedding)        (None, 100, 100)          40000100  \n",
      "_________________________________________________________________\n",
      "bidirectional (Bidirectional (None, 100, 256)          234496    \n",
      "_________________________________________________________________\n",
      "bidirectional_1 (Bidirection (None, 100, 200)          285600    \n",
      "_________________________________________________________________\n",
      "conv1d (Conv1D)              (None, 96, 100)           100100    \n",
      "_________________________________________________________________\n",
      "global_max_pooling1d (Global (None, 100)               0         \n",
      "_________________________________________________________________\n",
      "dense (Dense)                (None, 32)                3232      \n",
      "_________________________________________________________________\n",
      "dense_1 (Dense)              (None, 1)                 33        \n",
      "=================================================================\n",
      "Total params: 40,623,561\n",
      "Trainable params: 623,461\n",
      "Non-trainable params: 40,000,100\n",
      "_________________________________________________________________\n"
     ]
    }
   ],
   "source": [
    "model.summary()"
   ]
  },
  {
   "cell_type": "code",
   "execution_count": 29,
   "metadata": {
    "executionInfo": {
     "elapsed": 2594764,
     "status": "ok",
     "timestamp": 1609446258612,
     "user": {
      "displayName": "Oksana Kalytenko",
      "photoUrl": "",
      "userId": "11398480196943265179"
     },
     "user_tz": -120
    },
    "id": "sQxQzHk9LSzO",
    "outputId": "a408a1a7-15ff-4f3a-e903-929f9488def3"
   },
   "outputs": [
    {
     "name": "stdout",
     "output_type": "stream",
     "text": [
      "Epoch 1/8\n",
      "53/53 [==============================] - 304s 6s/step - loss: 0.8335 - accuracy: 0.5573 - val_loss: 0.9213 - val_accuracy: 0.3875\n",
      "Epoch 2/8\n",
      "53/53 [==============================] - 307s 6s/step - loss: 0.6340 - accuracy: 0.6525 - val_loss: 0.7757 - val_accuracy: 0.5602\n",
      "Epoch 3/8\n",
      "53/53 [==============================] - 298s 6s/step - loss: 0.5972 - accuracy: 0.6933 - val_loss: 0.7483 - val_accuracy: 0.6600\n",
      "Epoch 4/8\n",
      "53/53 [==============================] - 299s 6s/step - loss: 0.5528 - accuracy: 0.7312 - val_loss: 0.7325 - val_accuracy: 0.6548\n",
      "Epoch 5/8\n",
      "53/53 [==============================] - 302s 6s/step - loss: 0.5136 - accuracy: 0.7544 - val_loss: 0.6254 - val_accuracy: 0.7085\n",
      "Epoch 6/8\n",
      "53/53 [==============================] - 301s 6s/step - loss: 0.4768 - accuracy: 0.7792 - val_loss: 0.7007 - val_accuracy: 0.6712\n",
      "Epoch 7/8\n",
      "53/53 [==============================] - 299s 6s/step - loss: 0.4499 - accuracy: 0.7941 - val_loss: 0.7896 - val_accuracy: 0.5793\n",
      "\n",
      "Epoch 00007: ReduceLROnPlateau reducing learning rate to 0.004999999888241291.\n",
      "Epoch 8/8\n",
      "53/53 [==============================] - 304s 6s/step - loss: 0.4281 - accuracy: 0.8064 - val_loss: 0.5172 - val_accuracy: 0.7848\n"
     ]
    }
   ],
   "source": [
    "history = model.fit(x_train, y_train,\n",
    "                    batch_size = BATCH_SIZE, \n",
    "                    validation_split=0.1,\n",
    "                    epochs = EPOCHS, \n",
    "                    callbacks = learning_rate_reduction)"
   ]
  },
  {
   "cell_type": "code",
   "execution_count": 30,
   "metadata": {
    "executionInfo": {
     "elapsed": 756,
     "status": "ok",
     "timestamp": 1609446728524,
     "user": {
      "displayName": "Oksana Kalytenko",
      "photoUrl": "",
      "userId": "11398480196943265179"
     },
     "user_tz": -120
    },
    "id": "tQeEHVeGLS-G"
   },
   "outputs": [
    {
     "name": "stdout",
     "output_type": "stream",
     "text": [
      "1/1 [==============================] - 1s 647ms/step - loss: 0.5924 - accuracy: 0.7075\n",
      "\n",
      "ACCURACY: 0.7075209021568298\n",
      "LOSS: 0.5924474596977234\n"
     ]
    }
   ],
   "source": [
    "score = model.evaluate(x_test, y_test, batch_size=BATCH_SIZE)\n",
    "print()\n",
    "print(\"ACCURACY:\",score[1])\n",
    "print(\"LOSS:\",score[0])"
   ]
  },
  {
   "cell_type": "code",
   "execution_count": 31,
   "metadata": {},
   "outputs": [
    {
     "data": {
      "text/plain": [
       "<matplotlib.legend.Legend at 0x7f5f8640e7f0>"
      ]
     },
     "execution_count": 31,
     "metadata": {},
     "output_type": "execute_result"
    },
    {
     "data": {
      "image/png": "[encoded data removed]",
      "text/plain": [
       "<Figure size 432x288 with 2 Axes>"
      ]
     },
     "metadata": {
      "needs_background": "light"
     },
     "output_type": "display_data"
    }
   ],
   "source": [
    "import matplotlib.pyplot as plt\n",
    "\n",
    "s, (at, al) = plt.subplots(2,1)\n",
    "at.plot(history.history['accuracy'], c= 'b')\n",
    "at.plot(history.history['val_accuracy'], c='r')\n",
    "at.set_title('model accuracy')\n",
    "at.set_ylabel('accuracy')\n",
    "at.set_xlabel('epoch')\n",
    "at.legend(['model_train', 'model_val'], loc='upper left')\n",
    "\n",
    "al.plot(history.history['loss'], c='m')\n",
    "al.plot(history.history['val_loss'], c='c')\n",
    "al.set_title('model loss')\n",
    "al.set_ylabel('loss')\n",
    "al.set_xlabel('epoch')\n",
    "al.legend(['train', 'val'], loc = 'upper left')"
   ]
  },
  {
   "cell_type": "code",
   "execution_count": null,
   "metadata": {},
   "outputs": [],
   "source": []
  }
 ],
 "metadata": {
  "kernelspec": {
   "display_name": "Python 3",
   "language": "python",
   "name": "python3"
  },
  "language_info": {
   "codemirror_mode": {
    "name": "ipython",
    "version": 3
   },
   "file_extension": ".py",
   "mimetype": "text/x-python",
   "name": "python",
   "nbconvert_exporter": "python",
   "pygments_lexer": "ipython3",
   "version": "3.8.3"
  }
 },
 "nbformat": 4,
 "nbformat_minor": 4
}
