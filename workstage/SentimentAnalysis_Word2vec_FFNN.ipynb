{
 "cells": [
  {
   "cell_type": "markdown",
   "metadata": {},
   "source": [
    "# Imports"
   ]
  },
  {
   "cell_type": "code",
   "execution_count": 1,
   "metadata": {
    "scrolled": true
   },
   "outputs": [
    {
     "name": "stderr",
     "output_type": "stream",
     "text": [
      "/home/jose/anaconda3/lib/python3.8/site-packages/tqdm/std.py:668: FutureWarning: The Panel class is removed from pandas. Accessing it from the top-level namespace will also be removed in the next version\n",
      "  from pandas import Panel\n"
     ]
    }
   ],
   "source": [
    "import pandas as pd # provide sql-like data manipulation tools. very handy.\n",
    "pd.options.mode.chained_assignment = None\n",
    "import numpy as np # high dimensional vector computing library.\n",
    "from copy import deepcopy\n",
    "from string import punctuation\n",
    "from random import shuffle\n",
    "import pickle\n",
    "import h5py\n",
    "import json\n",
    "import matplotlib.pyplot as plt \n",
    "\n",
    "import gensim\n",
    "from gensim.models.word2vec import Word2Vec # the word2vec model gensim class\n",
    "\n",
    "from tqdm import tqdm\n",
    "tqdm.pandas(desc=\"progress-bar\")\n",
    "\n",
    "from nltk.tokenize import TweetTokenizer # a tweet tokenizer from nltk.\n",
    "from nltk import word_tokenize\n",
    "\n",
    "from sklearn.preprocessing import scale\n",
    "from sklearn.model_selection import train_test_split\n",
    "from sklearn.feature_extraction.text import TfidfVectorizer\n",
    "\n",
    "from keras.preprocessing.image import ImageDataGenerator\n",
    "from keras.models import Sequential\n",
    "from keras.layers import Dense\n",
    "from keras.layers import Dropout\n",
    "from keras.layers import Flatten\n",
    "from keras.constraints import maxnorm\n",
    "from keras.optimizers import SGD\n",
    "from keras.layers.convolutional import Conv2D\n",
    "from keras.layers.convolutional import MaxPooling2D\n",
    "from keras.utils import np_utils\n",
    "from keras.callbacks import Callback\n",
    "from keras.models import model_from_json\n",
    "\n",
    "\n",
    "# importing bokeh library for interactive dataviz\n",
    "import bokeh.plotting as bp\n",
    "from bokeh.models import HoverTool, BoxSelectTool\n",
    "from bokeh.plotting import figure, show, output_notebook"
   ]
  },
  {
   "cell_type": "markdown",
   "metadata": {},
   "source": [
    "# Loading Data"
   ]
  },
  {
   "cell_type": "code",
   "execution_count": 2,
   "metadata": {},
   "outputs": [
    {
     "name": "stdout",
     "output_type": "stream",
     "text": [
      "dataset loaded with shape (1599999, 4)\n"
     ]
    }
   ],
   "source": [
    "def ingest():\n",
    "    data = pd.read_csv('data/training.1600000.processed.noemoticon.csv', encoding='latin-1') # Enter your file location\n",
    "    data.columns=[\"Sentiment\",\"ItemID\",\"Date\",\"Blank\",\"SentimentSource\",\"SentimentText\"]\n",
    "    data.drop(['ItemID', 'SentimentSource'], axis=1, inplace=True)\n",
    "    data = data[data.Sentiment.isnull() == False]\n",
    "    data['Sentiment'] = data['Sentiment'].map( {4:1, 0:0}) #Converting 4 to 1\n",
    "    data = data[data['SentimentText'].isnull() == False]\n",
    "    data.reset_index(inplace=True)\n",
    "    data.drop('index', axis=1, inplace=True)\n",
    "    print ('dataset loaded with shape', data.shape  )  \n",
    "    return data\n",
    "\n",
    "data = ingest()"
   ]
  },
  {
   "cell_type": "markdown",
   "metadata": {},
   "source": [
    "# Processing Data"
   ]
  },
  {
   "cell_type": "code",
   "execution_count": 3,
   "metadata": {},
   "outputs": [],
   "source": [
    "tokenizer = TweetTokenizer()\n",
    "def tokenize(tweet):\n",
    "    try:\n",
    "        tweet = tweet.lower()\n",
    "        tokens = tokenizer.tokenize(tweet)\n",
    "        tokens = list(filter(lambda t: not t.startswith('@'), tokens))\n",
    "        tokens = list(filter(lambda t: not t.startswith('#'), tokens))\n",
    "        tokens = list(filter(lambda t: not t.startswith('http'), tokens))\n",
    "        return tokens\n",
    "    except:\n",
    "        return 'NC'"
   ]
  },
  {
   "cell_type": "code",
   "execution_count": 4,
   "metadata": {
    "scrolled": true
   },
   "outputs": [
    {
     "name": "stderr",
     "output_type": "stream",
     "text": [
      "progress-bar: 100%|██████████| 1599999/1599999 [02:42<00:00, 9854.12it/s] \n"
     ]
    }
   ],
   "source": [
    "def postprocess(data):\n",
    "#     , n=1000000\n",
    "#     data = data.head(n)\n",
    "    data['tokens'] = data['SentimentText'].progress_map(tokenize)  ## progress_map is a variant of the map function plus a progress bar. Handy to monitor DataFrame creations.\n",
    "    data = data[data.tokens != 'NC']\n",
    "    data.reset_index(inplace=True)\n",
    "    data.drop('index', inplace=True, axis=1)\n",
    "    return data\n",
    "\n",
    "data = postprocess(data)"
   ]
  },
  {
   "cell_type": "markdown",
   "metadata": {},
   "source": [
    "# Labelise Data"
   ]
  },
  {
   "cell_type": "code",
   "execution_count": 5,
   "metadata": {},
   "outputs": [],
   "source": [
    "LabeledSentence = gensim.models.doc2vec.LabeledSentence # we'll talk about this down below\n",
    "\n",
    "def labelizeTweets(tweets, label_type):\n",
    "    labelized = []\n",
    "    for i,v in tqdm(enumerate(tweets)):\n",
    "        label = '%s_%s'%(label_type,i)\n",
    "        labelized.append(LabeledSentence(v, [label]))\n",
    "    return labelized"
   ]
  },
  {
   "cell_type": "code",
   "execution_count": 6,
   "metadata": {
    "scrolled": true
   },
   "outputs": [],
   "source": [
    "#Splitting for training and testing\n",
    "x_train, x_test, y_train, y_test = train_test_split(np.array(data.head(100000).tokens),\n",
    "                                                    np.array(data.head(100000).Sentiment), test_size=0.2)\n"
   ]
  },
  {
   "cell_type": "code",
   "execution_count": 7,
   "metadata": {},
   "outputs": [
    {
     "name": "stderr",
     "output_type": "stream",
     "text": [
      "0it [00:00, ?it/s]<ipython-input-5-a7336af46943>:7: DeprecationWarning: Call to deprecated `LabeledSentence` (Class will be removed in 4.0.0, use TaggedDocument instead).\n",
      "  labelized.append(LabeledSentence(v, [label]))\n",
      "80000it [00:00, 162220.17it/s]\n",
      "20000it [00:00, 218910.54it/s]\n"
     ]
    }
   ],
   "source": [
    "x_train = labelizeTweets(x_train, 'TRAIN')\n",
    "x_test = labelizeTweets(x_test, 'TEST') "
   ]
  },
  {
   "cell_type": "code",
   "execution_count": 8,
   "metadata": {
    "scrolled": true
   },
   "outputs": [
    {
     "name": "stderr",
     "output_type": "stream",
     "text": [
      "0it [00:00, ?it/s]<ipython-input-5-a7336af46943>:7: DeprecationWarning: Call to deprecated `LabeledSentence` (Class will be removed in 4.0.0, use TaggedDocument instead).\n",
      "  labelized.append(LabeledSentence(v, [label]))\n",
      "1599999it [00:14, 108060.75it/s]\n"
     ]
    }
   ],
   "source": [
    "data_labellised= labelizeTweets(np.array(data.tokens), 'data')"
   ]
  },
  {
   "cell_type": "markdown",
   "metadata": {},
   "source": [
    "# Builidng word2vec vocabulary and training"
   ]
  },
  {
   "cell_type": "code",
   "execution_count": 9,
   "metadata": {
    "scrolled": true
   },
   "outputs": [
    {
     "name": "stderr",
     "output_type": "stream",
     "text": [
      "100%|██████████| 1599999/1599999 [00:00<00:00, 1827885.45it/s]\n"
     ]
    }
   ],
   "source": [
    "n=100000\n",
    "n_dim = 200\n",
    "tweet_w2v = Word2Vec(size=n_dim, min_count=10)\n",
    "tweet_w2v.build_vocab([x.words for x in tqdm(data_labellised)])"
   ]
  },
  {
   "cell_type": "code",
   "execution_count": 10,
   "metadata": {
    "scrolled": false
   },
   "outputs": [
    {
     "name": "stderr",
     "output_type": "stream",
     "text": [
      "100%|██████████| 1599999/1599999 [00:00<00:00, 2049111.82it/s]\n",
      "<ipython-input-10-2dfe15043b8f>:1: DeprecationWarning: Call to deprecated `iter` (Attribute will be removed in 4.0.0, use self.epochs instead).\n",
      "  tweet_w2v.train([x.words for x in tqdm(data_labellised)],total_examples=tweet_w2v.corpus_count, epochs=tweet_w2v.iter)\n"
     ]
    },
    {
     "data": {
      "text/plain": [
       "(85662381, 117742340)"
      ]
     },
     "execution_count": 10,
     "metadata": {},
     "output_type": "execute_result"
    }
   ],
   "source": [
    "tweet_w2v.train([x.words for x in tqdm(data_labellised)],total_examples=tweet_w2v.corpus_count, epochs=tweet_w2v.iter) "
   ]
  },
  {
   "cell_type": "code",
   "execution_count": 11,
   "metadata": {},
   "outputs": [],
   "source": [
    "#Save the w2v model\n",
    "#tweet_w2v.save('w2vmodel')\n",
    "#Load the w2v model\n",
    "#new_w2vmodel = gensim.models.Word2Vec.load('w2vmodel')"
   ]
  },
  {
   "cell_type": "code",
   "execution_count": 12,
   "metadata": {
    "scrolled": true
   },
   "outputs": [
    {
     "name": "stderr",
     "output_type": "stream",
     "text": [
      "<ipython-input-12-e71c4b11d570>:2: DeprecationWarning: Call to deprecated `__getitem__` (Method will be removed in 4.0.0, use self.wv.__getitem__() instead).\n",
      "  tweet_w2v['bye']\n"
     ]
    },
    {
     "data": {
      "text/plain": [
       "array([-0.30251047, -1.6405699 , -0.03402726,  0.06171053,  2.072614  ,\n",
       "       -0.80636126, -0.8875673 ,  0.6213735 , -0.8549891 , -0.5925667 ,\n",
       "       -0.2054568 ,  1.9618661 ,  0.2551082 ,  0.71145564,  0.55248886,\n",
       "        1.1340448 , -1.3346654 ,  0.49977866,  0.6335914 ,  0.60645866,\n",
       "        0.8246588 ,  0.19022721, -0.4694658 ,  0.08777889, -0.5309277 ,\n",
       "        0.28843787,  1.4564227 , -0.14684612,  0.76662695,  1.4012446 ,\n",
       "        0.3229195 ,  0.04194264, -0.39449295, -0.2928253 ,  0.42130405,\n",
       "       -0.1199276 , -1.6242939 , -1.3620796 ,  0.49121478,  0.6751612 ,\n",
       "       -0.54766166,  0.02130029, -0.82963926,  0.7152768 , -0.29126403,\n",
       "        0.82934654,  0.7953976 ,  1.9167562 ,  0.7727084 , -1.499936  ,\n",
       "       -0.9232202 , -1.6494724 , -0.3109122 , -0.49838433,  0.8297867 ,\n",
       "       -1.6871886 ,  0.13586158, -0.72929054, -0.58872765, -0.14110719,\n",
       "        0.83960795,  0.90627295,  1.7784247 , -0.19003321, -0.9883626 ,\n",
       "       -1.9902493 ,  1.2869697 , -0.34673524,  0.9200596 , -0.09187969,\n",
       "        1.6831187 ,  1.1417927 ,  1.5561993 ,  0.02954807, -1.0169789 ,\n",
       "        0.7092666 , -0.08357851, -0.0482903 ,  0.8445881 , -2.299535  ,\n",
       "        1.9424868 ,  1.9618208 , -0.38961434,  0.5398822 ,  1.067658  ,\n",
       "       -0.10712691,  2.2815561 ,  0.82082444,  0.1797112 , -0.6438154 ,\n",
       "       -0.6154179 ,  0.8632461 , -1.2921294 ,  0.76941717, -0.7304598 ,\n",
       "        2.047586  ,  2.1604333 ,  0.5883893 , -0.3426624 ,  1.3851582 ,\n",
       "        0.01917139, -0.03926592,  0.9112187 , -0.5858827 ,  0.0097074 ,\n",
       "        0.2571602 ,  0.40765718,  1.8543477 ,  0.7403345 , -0.9489866 ,\n",
       "        0.1822415 , -1.6117408 , -0.5281709 ,  1.9397314 ,  0.64264566,\n",
       "        1.3412131 , -0.38477713,  0.01408466,  1.9829228 , -0.24327563,\n",
       "        0.02664784, -3.1656296 , -1.0982736 , -0.5515643 ,  0.48804235,\n",
       "       -1.5037441 ,  1.3834485 , -0.40860543, -0.67821366, -0.59622264,\n",
       "        1.2650818 ,  0.78252506,  0.5612915 , -1.2130884 ,  0.53579336,\n",
       "        2.3497393 , -2.3363962 ,  0.6617727 , -0.560653  , -0.3735802 ,\n",
       "        0.13384137, -2.6798415 , -0.8045995 , -0.10313802,  0.7541387 ,\n",
       "        0.00953127, -0.5660975 ,  0.43904534,  0.7379882 ,  0.33489016,\n",
       "       -0.01597751, -0.8871212 , -1.2468098 ,  0.2814783 , -1.5029805 ,\n",
       "        1.0860628 ,  0.5319437 , -1.2274771 , -0.27131918, -1.4117295 ,\n",
       "       -1.4183421 , -0.3390669 ,  1.091999  ,  0.3056668 ,  0.58301485,\n",
       "       -0.96020925, -0.42146802, -1.6853468 , -0.69607806,  1.3175796 ,\n",
       "        0.95413053, -2.5987155 , -0.13305075,  2.7417734 , -0.9089777 ,\n",
       "       -0.2532709 ,  0.33466688, -0.25007573,  0.5719029 ,  1.2474328 ,\n",
       "        1.580519  ,  1.1247535 , -1.9225879 ,  1.5469729 ,  1.565425  ,\n",
       "        1.048284  ,  1.1550121 ,  1.6209564 ,  1.0193306 ,  1.7257526 ,\n",
       "        1.9161757 ,  0.40655178, -0.26054645,  0.49410436, -0.40318426,\n",
       "        1.1169114 ,  1.5045669 ,  0.88739276, -0.56727004,  0.51008546],\n",
       "      dtype=float32)"
      ]
     },
     "execution_count": 12,
     "metadata": {},
     "output_type": "execute_result"
    }
   ],
   "source": [
    "#convert any word(present in vocabulary) to vector.\n",
    "tweet_w2v['bye']"
   ]
  },
  {
   "cell_type": "code",
   "execution_count": 13,
   "metadata": {
    "scrolled": true
   },
   "outputs": [
    {
     "name": "stderr",
     "output_type": "stream",
     "text": [
      "<ipython-input-13-6e0e7f853352>:2: DeprecationWarning: Call to deprecated `most_similar` (Method will be removed in 4.0.0, use self.wv.most_similar() instead).\n",
      "  tweet_w2v.most_similar('fever')\n"
     ]
    },
    {
     "data": {
      "text/plain": [
       "[('migraine', 0.7162464261054993),\n",
       " ('cough', 0.6996488571166992),\n",
       " ('headache', 0.6861199140548706),\n",
       " ('bronchitis', 0.6843030452728271),\n",
       " ('toothache', 0.6728112697601318),\n",
       " ('flu', 0.6262699365615845),\n",
       " ('hayfever', 0.6159099340438843),\n",
       " ('chills', 0.6056267023086548),\n",
       " ('virus', 0.6038968563079834),\n",
       " ('migrane', 0.5986521244049072)]"
      ]
     },
     "execution_count": 13,
     "metadata": {},
     "output_type": "execute_result"
    }
   ],
   "source": [
    "#Find similar words\n",
    "tweet_w2v.most_similar('fever')"
   ]
  },
  {
   "cell_type": "markdown",
   "metadata": {},
   "source": [
    "# TF-IDF matrix of data"
   ]
  },
  {
   "cell_type": "code",
   "execution_count": 14,
   "metadata": {
    "scrolled": true
   },
   "outputs": [
    {
     "name": "stdout",
     "output_type": "stream",
     "text": [
      "building tf-idf matrix ...\n",
      "vocab size : 34988\n"
     ]
    }
   ],
   "source": [
    "print ('building tf-idf matrix ...')\n",
    "vectorizer = TfidfVectorizer(analyzer=lambda x: x, min_df=10)\n",
    "matrix = vectorizer.fit_transform([x.words for x in data_labellised])\n",
    "tfidf = dict(zip(vectorizer.get_feature_names(), vectorizer.idf_))\n",
    "print ('vocab size :', len(tfidf))"
   ]
  },
  {
   "cell_type": "code",
   "execution_count": 15,
   "metadata": {},
   "outputs": [],
   "source": [
    "#Save the tfidf \n",
    "# with open(\"tfidfdict.txt\", \"wb\") as myFile:\n",
    "#     pickle.dump(tfidf, myFile)\n",
    "# with open(\"tfidfdict.txt\", \"rb\") as myFile:\n",
    "#     tfidf = pickle.load(myFile)\n"
   ]
  },
  {
   "cell_type": "markdown",
   "metadata": {},
   "source": [
    "# Build tweet vector to give input to FFNN"
   ]
  },
  {
   "cell_type": "code",
   "execution_count": 16,
   "metadata": {},
   "outputs": [],
   "source": [
    "def buildWordVector(tokens, size):\n",
    "    vec = np.zeros(size).reshape((1, size))\n",
    "    count = 0.\n",
    "    for word in tokens:\n",
    "        try:\n",
    "            vec += tweet_w2v[word].reshape((1, size)) * tfidf[word] #combining w2v vectors with tfidf value of words in the tweet.\n",
    "            count += 1.\n",
    "        except KeyError: # handling the case where the token is not\n",
    "                         # in the corpus. useful for testing.\n",
    "            continue\n",
    "    if count != 0:\n",
    "        vec /= count\n",
    "    return vec"
   ]
  },
  {
   "cell_type": "code",
   "execution_count": 17,
   "metadata": {
    "scrolled": true
   },
   "outputs": [
    {
     "name": "stderr",
     "output_type": "stream",
     "text": [
      "0it [00:00, ?it/s]<ipython-input-16-b7607520d9cb>:6: DeprecationWarning: Call to deprecated `__getitem__` (Method will be removed in 4.0.0, use self.wv.__getitem__() instead).\n",
      "  vec += tweet_w2v[word].reshape((1, size)) * tfidf[word] #combining w2v vectors with tfidf value of words in the tweet.\n",
      "80000it [00:16, 4941.87it/s]\n",
      "0it [00:00, ?it/s]<ipython-input-16-b7607520d9cb>:6: DeprecationWarning: Call to deprecated `__getitem__` (Method will be removed in 4.0.0, use self.wv.__getitem__() instead).\n",
      "  vec += tweet_w2v[word].reshape((1, size)) * tfidf[word] #combining w2v vectors with tfidf value of words in the tweet.\n",
      "20000it [00:03, 5308.20it/s]\n"
     ]
    }
   ],
   "source": [
    "train_vecs_w2v = np.concatenate([buildWordVector(z, n_dim) for z in tqdm(map(lambda x: x.words, x_train))])\n",
    "train_vecs_w2v = scale(train_vecs_w2v)\n",
    "\n",
    "test_vecs_w2v = np.concatenate([buildWordVector(z, n_dim) for z in tqdm(map(lambda x: x.words, x_test))])\n",
    "test_vecs_w2v = scale(test_vecs_w2v)"
   ]
  },
  {
   "cell_type": "code",
   "execution_count": null,
   "metadata": {},
   "outputs": [],
   "source": []
  },
  {
   "cell_type": "code",
   "execution_count": null,
   "metadata": {},
   "outputs": [],
   "source": []
  },
  {
   "cell_type": "markdown",
   "metadata": {},
   "source": [
    "# Training 3 layered FFNN"
   ]
  },
  {
   "cell_type": "code",
   "execution_count": 18,
   "metadata": {
    "scrolled": true
   },
   "outputs": [
    {
     "name": "stdout",
     "output_type": "stream",
     "text": [
      "Epoch 1/100\n",
      "8/8 - 1s - loss: 0.7017 - accuracy: 0.5681\n",
      "Epoch 2/100\n",
      "8/8 - 0s - loss: 0.4200 - accuracy: 0.9515\n",
      "Epoch 3/100\n",
      "8/8 - 0s - loss: 0.2719 - accuracy: 0.9952\n",
      "Epoch 4/100\n",
      "8/8 - 0s - loss: 0.1727 - accuracy: 0.9996\n",
      "Epoch 5/100\n",
      "8/8 - 0s - loss: 0.1072 - accuracy: 0.9999\n",
      "Epoch 6/100\n",
      "8/8 - 0s - loss: 0.0662 - accuracy: 1.0000\n",
      "Epoch 7/100\n",
      "8/8 - 0s - loss: 0.0412 - accuracy: 1.0000\n",
      "Epoch 8/100\n",
      "8/8 - 0s - loss: 0.0258 - accuracy: 1.0000\n",
      "Epoch 9/100\n",
      "8/8 - 0s - loss: 0.0163 - accuracy: 1.0000\n",
      "Epoch 10/100\n",
      "8/8 - 0s - loss: 0.0103 - accuracy: 1.0000\n",
      "Epoch 11/100\n",
      "8/8 - 0s - loss: 0.0066 - accuracy: 1.0000\n",
      "Epoch 12/100\n",
      "8/8 - 0s - loss: 0.0042 - accuracy: 1.0000\n",
      "Epoch 13/100\n",
      "8/8 - 0s - loss: 0.0027 - accuracy: 1.0000\n",
      "Epoch 14/100\n",
      "8/8 - 0s - loss: 0.0017 - accuracy: 1.0000\n",
      "Epoch 15/100\n",
      "8/8 - 0s - loss: 0.0011 - accuracy: 1.0000\n",
      "Epoch 16/100\n",
      "8/8 - 0s - loss: 7.2141e-04 - accuracy: 1.0000\n",
      "Epoch 17/100\n",
      "8/8 - 0s - loss: 4.6616e-04 - accuracy: 1.0000\n",
      "Epoch 18/100\n",
      "8/8 - 0s - loss: 3.0138e-04 - accuracy: 1.0000\n",
      "Epoch 19/100\n",
      "8/8 - 0s - loss: 1.9489e-04 - accuracy: 1.0000\n",
      "Epoch 20/100\n",
      "8/8 - 0s - loss: 1.2632e-04 - accuracy: 1.0000\n",
      "Epoch 21/100\n",
      "8/8 - 0s - loss: 8.2017e-05 - accuracy: 1.0000\n",
      "Epoch 22/100\n",
      "8/8 - 0s - loss: 5.3296e-05 - accuracy: 1.0000\n",
      "Epoch 23/100\n",
      "8/8 - 0s - loss: 3.4621e-05 - accuracy: 1.0000\n",
      "Epoch 24/100\n",
      "8/8 - 0s - loss: 2.2526e-05 - accuracy: 1.0000\n",
      "Epoch 25/100\n",
      "8/8 - 0s - loss: 1.4680e-05 - accuracy: 1.0000\n",
      "Epoch 26/100\n",
      "8/8 - 0s - loss: 9.6024e-06 - accuracy: 1.0000\n",
      "Epoch 27/100\n",
      "8/8 - 0s - loss: 6.2900e-06 - accuracy: 1.0000\n",
      "Epoch 28/100\n",
      "8/8 - 0s - loss: 4.1361e-06 - accuracy: 1.0000\n",
      "Epoch 29/100\n",
      "8/8 - 0s - loss: 2.7338e-06 - accuracy: 1.0000\n",
      "Epoch 30/100\n",
      "8/8 - 0s - loss: 1.8197e-06 - accuracy: 1.0000\n",
      "Epoch 31/100\n",
      "8/8 - 0s - loss: 1.2199e-06 - accuracy: 1.0000\n",
      "Epoch 32/100\n",
      "8/8 - 0s - loss: 8.2277e-07 - accuracy: 1.0000\n",
      "Epoch 33/100\n",
      "8/8 - 0s - loss: 5.6095e-07 - accuracy: 1.0000\n",
      "Epoch 34/100\n",
      "8/8 - 0s - loss: 3.8566e-07 - accuracy: 1.0000\n",
      "Epoch 35/100\n",
      "8/8 - 0s - loss: 2.6801e-07 - accuracy: 1.0000\n",
      "Epoch 36/100\n",
      "8/8 - 0s - loss: 1.8857e-07 - accuracy: 1.0000\n",
      "Epoch 37/100\n",
      "8/8 - 0s - loss: 1.3456e-07 - accuracy: 1.0000\n",
      "Epoch 38/100\n",
      "8/8 - 0s - loss: 9.7381e-08 - accuracy: 1.0000\n",
      "Epoch 39/100\n",
      "8/8 - 0s - loss: 7.1609e-08 - accuracy: 1.0000\n",
      "Epoch 40/100\n",
      "8/8 - 0s - loss: 5.3560e-08 - accuracy: 1.0000\n",
      "Epoch 41/100\n",
      "8/8 - 0s - loss: 4.0756e-08 - accuracy: 1.0000\n",
      "Epoch 42/100\n",
      "8/8 - 0s - loss: 3.1549e-08 - accuracy: 1.0000\n",
      "Epoch 43/100\n",
      "8/8 - 0s - loss: 2.4855e-08 - accuracy: 1.0000\n",
      "Epoch 44/100\n",
      "8/8 - 0s - loss: 1.9916e-08 - accuracy: 1.0000\n",
      "Epoch 45/100\n",
      "8/8 - 0s - loss: 1.6248e-08 - accuracy: 1.0000\n",
      "Epoch 46/100\n",
      "8/8 - 0s - loss: 1.3485e-08 - accuracy: 1.0000\n",
      "Epoch 47/100\n",
      "8/8 - 0s - loss: 1.1371e-08 - accuracy: 1.0000\n",
      "Epoch 48/100\n",
      "8/8 - 0s - loss: 9.7310e-09 - accuracy: 1.0000\n",
      "Epoch 49/100\n",
      "8/8 - 0s - loss: 8.4361e-09 - accuracy: 1.0000\n",
      "Epoch 50/100\n",
      "8/8 - 0s - loss: 7.4010e-09 - accuracy: 1.0000\n",
      "Epoch 51/100\n",
      "8/8 - 0s - loss: 6.5620e-09 - accuracy: 1.0000\n",
      "Epoch 52/100\n",
      "8/8 - 0s - loss: 5.8735e-09 - accuracy: 1.0000\n",
      "Epoch 53/100\n",
      "8/8 - 0s - loss: 5.2989e-09 - accuracy: 1.0000\n",
      "Epoch 54/100\n",
      "8/8 - 0s - loss: 4.8166e-09 - accuracy: 1.0000\n",
      "Epoch 55/100\n",
      "8/8 - 0s - loss: 4.4064e-09 - accuracy: 1.0000\n",
      "Epoch 56/100\n",
      "8/8 - 0s - loss: 4.0546e-09 - accuracy: 1.0000\n",
      "Epoch 57/100\n",
      "8/8 - 0s - loss: 3.7502e-09 - accuracy: 1.0000\n",
      "Epoch 58/100\n",
      "8/8 - 0s - loss: 3.4840e-09 - accuracy: 1.0000\n",
      "Epoch 59/100\n",
      "8/8 - 0s - loss: 3.2502e-09 - accuracy: 1.0000\n",
      "Epoch 60/100\n",
      "8/8 - 0s - loss: 3.0439e-09 - accuracy: 1.0000\n",
      "Epoch 61/100\n",
      "8/8 - 0s - loss: 2.8600e-09 - accuracy: 1.0000\n",
      "Epoch 62/100\n",
      "8/8 - 0s - loss: 2.6955e-09 - accuracy: 1.0000\n",
      "Epoch 63/100\n",
      "8/8 - 0s - loss: 2.5478e-09 - accuracy: 1.0000\n",
      "Epoch 64/100\n",
      "8/8 - 0s - loss: 2.4144e-09 - accuracy: 1.0000\n",
      "Epoch 65/100\n",
      "8/8 - 0s - loss: 2.2934e-09 - accuracy: 1.0000\n",
      "Epoch 66/100\n",
      "8/8 - 0s - loss: 2.1828e-09 - accuracy: 1.0000\n",
      "Epoch 67/100\n",
      "8/8 - 0s - loss: 2.0819e-09 - accuracy: 1.0000\n",
      "Epoch 68/100\n",
      "8/8 - 0s - loss: 1.9893e-09 - accuracy: 1.0000\n",
      "Epoch 69/100\n",
      "8/8 - 0s - loss: 1.9043e-09 - accuracy: 1.0000\n",
      "Epoch 70/100\n",
      "8/8 - 0s - loss: 1.8256e-09 - accuracy: 1.0000\n",
      "Epoch 71/100\n",
      "8/8 - 0s - loss: 1.7530e-09 - accuracy: 1.0000\n",
      "Epoch 72/100\n",
      "8/8 - 0s - loss: 1.6855e-09 - accuracy: 1.0000\n",
      "Epoch 73/100\n",
      "8/8 - 0s - loss: 1.6228e-09 - accuracy: 1.0000\n",
      "Epoch 74/100\n",
      "8/8 - 0s - loss: 1.5643e-09 - accuracy: 1.0000\n",
      "Epoch 75/100\n",
      "8/8 - 0s - loss: 1.5096e-09 - accuracy: 1.0000\n",
      "Epoch 76/100\n",
      "8/8 - 0s - loss: 1.4583e-09 - accuracy: 1.0000\n",
      "Epoch 77/100\n",
      "8/8 - 0s - loss: 1.4104e-09 - accuracy: 1.0000\n",
      "Epoch 78/100\n",
      "8/8 - 0s - loss: 1.3653e-09 - accuracy: 1.0000\n",
      "Epoch 79/100\n",
      "8/8 - 0s - loss: 1.3228e-09 - accuracy: 1.0000\n",
      "Epoch 80/100\n",
      "8/8 - 0s - loss: 1.2828e-09 - accuracy: 1.0000\n",
      "Epoch 81/100\n",
      "8/8 - 0s - loss: 1.2450e-09 - accuracy: 1.0000\n",
      "Epoch 82/100\n",
      "8/8 - 0s - loss: 1.2093e-09 - accuracy: 1.0000\n",
      "Epoch 83/100\n",
      "8/8 - 0s - loss: 1.1754e-09 - accuracy: 1.0000\n",
      "Epoch 84/100\n",
      "8/8 - 0s - loss: 1.1433e-09 - accuracy: 1.0000\n",
      "Epoch 85/100\n",
      "8/8 - 0s - loss: 1.1129e-09 - accuracy: 1.0000\n",
      "Epoch 86/100\n",
      "8/8 - 0s - loss: 1.0839e-09 - accuracy: 1.0000\n",
      "Epoch 87/100\n",
      "8/8 - 0s - loss: 1.0563e-09 - accuracy: 1.0000\n",
      "Epoch 88/100\n",
      "8/8 - 0s - loss: 1.0301e-09 - accuracy: 1.0000\n",
      "Epoch 89/100\n",
      "8/8 - 0s - loss: 1.0050e-09 - accuracy: 1.0000\n",
      "Epoch 90/100\n",
      "8/8 - 0s - loss: 9.8109e-10 - accuracy: 1.0000\n",
      "Epoch 91/100\n",
      "8/8 - 0s - loss: 9.5826e-10 - accuracy: 1.0000\n",
      "Epoch 92/100\n",
      "8/8 - 0s - loss: 9.3639e-10 - accuracy: 1.0000\n",
      "Epoch 93/100\n",
      "8/8 - 0s - loss: 9.1546e-10 - accuracy: 1.0000\n",
      "Epoch 94/100\n",
      "8/8 - 0s - loss: 8.9539e-10 - accuracy: 1.0000\n",
      "Epoch 95/100\n",
      "8/8 - 0s - loss: 8.7619e-10 - accuracy: 1.0000\n",
      "Epoch 96/100\n",
      "8/8 - 0s - loss: 8.5775e-10 - accuracy: 1.0000\n",
      "Epoch 97/100\n",
      "8/8 - 0s - loss: 8.3999e-10 - accuracy: 1.0000\n",
      "Epoch 98/100\n",
      "8/8 - 0s - loss: 8.2294e-10 - accuracy: 1.0000\n",
      "Epoch 99/100\n",
      "8/8 - 0s - loss: 8.0653e-10 - accuracy: 1.0000\n",
      "Epoch 100/100\n",
      "8/8 - 0s - loss: 7.9079e-10 - accuracy: 1.0000\n"
     ]
    },
    {
     "data": {
      "text/plain": [
       "<tensorflow.python.keras.callbacks.History at 0x7fa1c880db80>"
      ]
     },
     "execution_count": 18,
     "metadata": {},
     "output_type": "execute_result"
    }
   ],
   "source": [
    "model = Sequential()\n",
    "model.add(Dense(32, activation='relu', input_dim=200))\n",
    "model.add(Dense(16, activation='relu'))\n",
    "model.add(Dense(8, activation='relu'))\n",
    "model.add(Dense(1, activation='sigmoid'))\n",
    "model.compile(optimizer='rmsprop',\n",
    "              loss='binary_crossentropy',\n",
    "              metrics=['accuracy'])\n",
    "\n",
    "model.fit(train_vecs_w2v, y_train, epochs=100, batch_size=10000, verbose=2)"
   ]
  },
  {
   "cell_type": "code",
   "execution_count": 19,
   "metadata": {
    "scrolled": true
   },
   "outputs": [
    {
     "name": "stdout",
     "output_type": "stream",
     "text": [
      "157/157 - 0s - loss: 2.6638e-09 - accuracy: 1.0000\n",
      "loss :  2.663778975176001e-09 \n",
      " accuracy :  1.0\n"
     ]
    }
   ],
   "source": [
    "# Evaluating accuracy score\n",
    "\n",
    "score = model.evaluate(test_vecs_w2v, y_test, batch_size=128, verbose=2)\n",
    "print(model.metrics_names[0],\": \",score[0],\"\\n\",model.metrics_names[1],\": \",score[1])"
   ]
  },
  {
   "cell_type": "markdown",
   "metadata": {},
   "source": [
    "# Saving model"
   ]
  },
  {
   "cell_type": "code",
   "execution_count": 20,
   "metadata": {
    "scrolled": false
   },
   "outputs": [
    {
     "name": "stdout",
     "output_type": "stream",
     "text": [
      "Saved model to disk\n"
     ]
    }
   ],
   "source": [
    "#Saving the model\n",
    "model_json = model.to_json() # serialize model to JSON\n",
    "with open(\"model.json\", \"w\") as json_file:\n",
    "    json_file.write(model_json)\n",
    "\n",
    "model.save_weights(\"smodel.h5\") # serialize weights to HDF5\n",
    "print(\"Saved model to disk\")\n",
    "\n",
    "#Loading the model\n",
    "# newmodel = model_from_json(open('model.json').read())\n",
    "# newmodel.load_weights('smodel.h5')"
   ]
  },
  {
   "cell_type": "markdown",
   "metadata": {},
   "source": [
    "# Predicting for test file (Validation)"
   ]
  },
  {
   "cell_type": "code",
   "execution_count": 21,
   "metadata": {},
   "outputs": [
    {
     "name": "stdout",
     "output_type": "stream",
     "text": [
      "dataset loaded with shape (497, 4)\n"
     ]
    }
   ],
   "source": [
    "def ingesttest():\n",
    "    testdata = pd.read_csv('data/testdata.manual.2009.06.14.csv', encoding='latin-1')\n",
    "    testdata.columns=[\"Sentiment\",\"ItemID\",\"Date\",\"Blank\",\"SentimentSource\",\"SentimentText\"]\n",
    "    testdata.drop(['ItemID', 'SentimentSource'], axis=1, inplace=True)\n",
    "    testdata = testdata[testdata.Sentiment.isnull() == False]\n",
    "    testdata['Sentiment'] = testdata['Sentiment'].map( {4:1, 0:0, 2:1})\n",
    "    testdata = testdata[testdata['SentimentText'].isnull() == False]\n",
    "    testdata.reset_index(inplace=True)\n",
    "    testdata.drop('index', axis=1, inplace=True)\n",
    "    print ('dataset loaded with shape', testdata.shape  )  \n",
    "    return testdata\n",
    "\n",
    "testdata = ingesttest()"
   ]
  },
  {
   "cell_type": "code",
   "execution_count": 22,
   "metadata": {},
   "outputs": [
    {
     "name": "stderr",
     "output_type": "stream",
     "text": [
      "progress-bar: 100%|██████████| 497/497 [00:00<00:00, 10932.12it/s]\n"
     ]
    },
    {
     "data": {
      "text/html": [
       "<div>\n",
       "<style scoped>\n",
       "    .dataframe tbody tr th:only-of-type {\n",
       "        vertical-align: middle;\n",
       "    }\n",
       "\n",
       "    .dataframe tbody tr th {\n",
       "        vertical-align: top;\n",
       "    }\n",
       "\n",
       "    .dataframe thead th {\n",
       "        text-align: right;\n",
       "    }\n",
       "</style>\n",
       "<table border=\"1\" class=\"dataframe\">\n",
       "  <thead>\n",
       "    <tr style=\"text-align: right;\">\n",
       "      <th></th>\n",
       "      <th>Sentiment</th>\n",
       "      <th>Date</th>\n",
       "      <th>Blank</th>\n",
       "      <th>SentimentText</th>\n",
       "      <th>tokens</th>\n",
       "    </tr>\n",
       "  </thead>\n",
       "  <tbody>\n",
       "    <tr>\n",
       "      <th>0</th>\n",
       "      <td>1</td>\n",
       "      <td>Mon May 11 03:18:03 UTC 2009</td>\n",
       "      <td>kindle2</td>\n",
       "      <td>Reading my kindle2...  Love it... Lee childs i...</td>\n",
       "      <td>[reading, my, kindle, 2, ..., love, it, ..., l...</td>\n",
       "    </tr>\n",
       "    <tr>\n",
       "      <th>1</th>\n",
       "      <td>1</td>\n",
       "      <td>Mon May 11 03:18:54 UTC 2009</td>\n",
       "      <td>kindle2</td>\n",
       "      <td>Ok, first assesment of the #kindle2 ...it fuck...</td>\n",
       "      <td>[ok, ,, first, assesment, of, the, ..., it, fu...</td>\n",
       "    </tr>\n",
       "    <tr>\n",
       "      <th>2</th>\n",
       "      <td>1</td>\n",
       "      <td>Mon May 11 03:19:04 UTC 2009</td>\n",
       "      <td>kindle2</td>\n",
       "      <td>@kenburbary You'll love your Kindle2. I've had...</td>\n",
       "      <td>[you'll, love, your, kindle, 2, ., i've, had, ...</td>\n",
       "    </tr>\n",
       "    <tr>\n",
       "      <th>3</th>\n",
       "      <td>1</td>\n",
       "      <td>Mon May 11 03:21:41 UTC 2009</td>\n",
       "      <td>kindle2</td>\n",
       "      <td>@mikefish  Fair enough. But i have the Kindle2...</td>\n",
       "      <td>[fair, enough, ., but, i, have, the, kindle, 2...</td>\n",
       "    </tr>\n",
       "    <tr>\n",
       "      <th>4</th>\n",
       "      <td>1</td>\n",
       "      <td>Mon May 11 03:22:00 UTC 2009</td>\n",
       "      <td>kindle2</td>\n",
       "      <td>@richardebaker no. it is too big. I'm quite ha...</td>\n",
       "      <td>[no, ., it, is, too, big, ., i'm, quite, happy...</td>\n",
       "    </tr>\n",
       "  </tbody>\n",
       "</table>\n",
       "</div>"
      ],
      "text/plain": [
       "   Sentiment                          Date    Blank  \\\n",
       "0          1  Mon May 11 03:18:03 UTC 2009  kindle2   \n",
       "1          1  Mon May 11 03:18:54 UTC 2009  kindle2   \n",
       "2          1  Mon May 11 03:19:04 UTC 2009  kindle2   \n",
       "3          1  Mon May 11 03:21:41 UTC 2009  kindle2   \n",
       "4          1  Mon May 11 03:22:00 UTC 2009  kindle2   \n",
       "\n",
       "                                       SentimentText  \\\n",
       "0  Reading my kindle2...  Love it... Lee childs i...   \n",
       "1  Ok, first assesment of the #kindle2 ...it fuck...   \n",
       "2  @kenburbary You'll love your Kindle2. I've had...   \n",
       "3  @mikefish  Fair enough. But i have the Kindle2...   \n",
       "4  @richardebaker no. it is too big. I'm quite ha...   \n",
       "\n",
       "                                              tokens  \n",
       "0  [reading, my, kindle, 2, ..., love, it, ..., l...  \n",
       "1  [ok, ,, first, assesment, of, the, ..., it, fu...  \n",
       "2  [you'll, love, your, kindle, 2, ., i've, had, ...  \n",
       "3  [fair, enough, ., but, i, have, the, kindle, 2...  \n",
       "4  [no, ., it, is, too, big, ., i'm, quite, happy...  "
      ]
     },
     "execution_count": 22,
     "metadata": {},
     "output_type": "execute_result"
    }
   ],
   "source": [
    "testdata = postprocess(testdata)\n",
    "testdata.head(5)"
   ]
  },
  {
   "cell_type": "code",
   "execution_count": 23,
   "metadata": {},
   "outputs": [],
   "source": [
    "test_X=np.array(testdata.tokens)\n",
    "test_y=np.array(testdata.Sentiment)"
   ]
  },
  {
   "cell_type": "code",
   "execution_count": 24,
   "metadata": {
    "scrolled": true
   },
   "outputs": [
    {
     "name": "stderr",
     "output_type": "stream",
     "text": [
      "0it [00:00, ?it/s]<ipython-input-16-b7607520d9cb>:6: DeprecationWarning: Call to deprecated `__getitem__` (Method will be removed in 4.0.0, use self.wv.__getitem__() instead).\n",
      "  vec += tweet_w2v[word].reshape((1, size)) * tfidf[word] #combining w2v vectors with tfidf value of words in the tweet.\n",
      "497it [00:00, 5528.25it/s]\n"
     ]
    }
   ],
   "source": [
    "test_w2v_vecs = np.concatenate([buildWordVector(z, n_dim) for z in tqdm(map(lambda x:x, test_X))])"
   ]
  },
  {
   "cell_type": "code",
   "execution_count": 25,
   "metadata": {},
   "outputs": [
    {
     "data": {
      "text/plain": [
       "(497, 200)"
      ]
     },
     "execution_count": 25,
     "metadata": {},
     "output_type": "execute_result"
    }
   ],
   "source": [
    "test_w2v_vecs.shape"
   ]
  },
  {
   "cell_type": "code",
   "execution_count": 26,
   "metadata": {
    "scrolled": true
   },
   "outputs": [
    {
     "name": "stdout",
     "output_type": "stream",
     "text": [
      "4/4 - 0s - loss: 48.5454 - accuracy: 0.3561\n",
      "loss :  48.545372009277344 \n",
      " accuracy :  0.35613682866096497\n"
     ]
    }
   ],
   "source": [
    "# model.predict_classes(test_w2v_vecs)\n",
    "score = model.evaluate(test_w2v_vecs,test_y, batch_size=128, verbose=2)\n",
    "print(model.metrics_names[0],\": \",score[0],\"\\n\",model.metrics_names[1],\": \",score[1])\n"
   ]
  }
 ],
 "metadata": {
  "kernelspec": {
   "display_name": "Python 3",
   "language": "python",
   "name": "python3"
  },
  "language_info": {
   "codemirror_mode": {
    "name": "ipython",
    "version": 3
   },
   "file_extension": ".py",
   "mimetype": "text/x-python",
   "name": "python",
   "nbconvert_exporter": "python",
   "pygments_lexer": "ipython3",
   "version": "3.8.3"
  }
 },
 "nbformat": 4,
 "nbformat_minor": 2
}
